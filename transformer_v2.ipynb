{
  "cells": [
    {
      "cell_type": "code",
      "execution_count": 1,
      "metadata": {
        "id": "70yJX_h9yA-F"
      },
      "outputs": [
        {
          "name": "stdout",
          "output_type": "stream",
          "text": [
            "Requirement already satisfied: scikit-learn in c:\\users\\lucia\\appdata\\local\\programs\\python\\python37\\lib\\site-packages (1.0.2)\n",
            "Requirement already satisfied: threadpoolctl>=2.0.0 in c:\\users\\lucia\\appdata\\local\\programs\\python\\python37\\lib\\site-packages (from scikit-learn) (3.1.0)\n",
            "Requirement already satisfied: numpy>=1.14.6 in c:\\users\\lucia\\appdata\\local\\programs\\python\\python37\\lib\\site-packages (from scikit-learn) (1.21.6)\n",
            "Requirement already satisfied: scipy>=1.1.0 in c:\\users\\lucia\\appdata\\local\\programs\\python\\python37\\lib\\site-packages (from scikit-learn) (1.7.3)\n",
            "Requirement already satisfied: joblib>=0.11 in c:\\users\\lucia\\appdata\\local\\programs\\python\\python37\\lib\\site-packages (from scikit-learn) (1.2.0)\n"
          ]
        }
      ],
      "source": [
        "#setup \n",
        "import os\n",
        "import datetime\n",
        "import IPython\n",
        "import IPython.display\n",
        "import matplotlib as mpl\n",
        "import matplotlib.pyplot as plt\n",
        "import numpy as np\n",
        "import pandas as pd\n",
        "import seaborn as sns\n",
        "import tensorflow as tf\n",
        "!pip install scikit-learn\n",
        "import sklearn\n",
        "\n",
        "mpl.rcParams['figure.figsize'] = (8, 6)\n",
        "mpl.rcParams['axes.grid'] = False\n"
      ]
    },
    {
      "cell_type": "code",
      "execution_count": 2,
      "metadata": {
        "id": "BnPnRoIYyeOy"
      },
      "outputs": [],
      "source": [
        "new_table = pd.read_csv('https://raw.githubusercontent.com/giobbu/App_Traff_Forecast_DeapLearn/master/data/Flow_BEL_street_30min.csv')"
      ]
    },
    {
      "cell_type": "code",
      "execution_count": 3,
      "metadata": {
        "colab": {
          "base_uri": "https://localhost:8080/"
        },
        "id": "D0JEA8J30c5D",
        "outputId": "590d1748-c677-4247-ad20-34da57402ee5"
      },
      "outputs": [
        {
          "name": "stdout",
          "output_type": "stream",
          "text": [
            "\n",
            "  street_index  mean_flow\n",
            "0          0.0   4.048023\n",
            "1          1.0  16.350282\n",
            "2          2.0   6.511299\n",
            "3          3.0   7.681850\n",
            "4          4.0   9.484463\n",
            "\n",
            "considering a average traffic flow of 20 per street\n",
            "\n",
            "mean traffic flow 20 ---> number of street segments: 1683\n"
          ]
        }
      ],
      "source": [
        "# this source: \n",
        "# the https://www.kaggle.com/code/giobbu/seasonal-persistence-model/notebook#Results-Comparison-between-Seasonal-model-(baseline)-and-LSTM-encoder-decoder-model\n",
        "# selects the roads that have an average traffic flow of 10 or larger, we also do this, this code is from the notebook listed above \n",
        "\n",
        "table_index = new_table.iloc[:,1:]\n",
        "ALL_STREETS = list(table_index.columns.values)\n",
        "\n",
        "mean_flow =[]\n",
        "new_street=[]\n",
        "\n",
        "mean_value = 20\n",
        "\n",
        "for street in ALL_STREETS:\n",
        "    \n",
        "    single_street=table_index[street]\n",
        "    mean = np.mean(single_street)\n",
        "    mean_flow.append(mean)\n",
        "    new_street.append(street)\n",
        "    \n",
        "    \n",
        "df_mean_flow = pd.DataFrame({'street_index':new_street, 'mean_flow': mean_flow})\n",
        "print('')\n",
        "print(df_mean_flow.head())\n",
        "print('')\n",
        "\n",
        "STREETS = df_mean_flow[(df_mean_flow['mean_flow'] >= mean_value)] \n",
        "STREETS = STREETS.sort_values(by=['street_index'])\n",
        "STREETS = list(STREETS.street_index)\n",
        "\n",
        "keys_dim = 1683\n",
        "keys_dim_time = 1686\n",
        "\n",
        "print('considering a average traffic flow of ' + str(mean_value)+' per street')\n",
        "print('')\n",
        "print('mean traffic flow '+str(mean_value)+ ' ---> number of street segments: ' + str(len(STREETS)))"
      ]
    },
    {
      "cell_type": "code",
      "execution_count": 4,
      "metadata": {
        "id": "C8PW_uZbWlBB"
      },
      "outputs": [],
      "source": [
        "new_table['datetime'] = pd.to_datetime(new_table['datetime'])"
      ]
    },
    {
      "cell_type": "code",
      "execution_count": 5,
      "metadata": {
        "colab": {
          "base_uri": "https://localhost:8080/",
          "height": 446
        },
        "id": "ZfYYEjq-W7Rv",
        "outputId": "22c0b7a5-4e32-45d5-fa10-4a75882fde34"
      },
      "outputs": [
        {
          "name": "stderr",
          "output_type": "stream",
          "text": [
            "C:\\Users\\Lucia\\AppData\\Roaming\\Python\\Python37\\site-packages\\ipykernel_launcher.py:1: FutureWarning: DataFrame.mean and DataFrame.median with numeric_only=None will include datetime64 and datetime64tz columns in a future version.\n",
            "  \"\"\"Entry point for launching an IPython kernel.\n"
          ]
        },
        {
          "data": {
            "text/plain": [
              "[<matplotlib.lines.Line2D at 0x21188179308>]"
            ]
          },
          "execution_count": 5,
          "metadata": {},
          "output_type": "execute_result"
        },
        {
          "data": {
            "image/png": "[encoded data removed]",
            "text/plain": [
              "<Figure size 800x600 with 1 Axes>"
            ]
          },
          "metadata": {},
          "output_type": "display_data"
        }
      ],
      "source": [
        "plt.plot(new_table['datetime'],new_table.mean(axis = 1))"
      ]
    },
    {
      "cell_type": "code",
      "execution_count": 6,
      "metadata": {
        "id": "jSCCJ46kYnfL"
      },
      "outputs": [],
      "source": [
        "from tensorflow.python.ops.gen_array_ops import fake_quant_with_min_max_vars_per_channel\n",
        "#we need to create \"windows\" in the data --> \n",
        "#X: input tensor : use a window of size s, lets say 5, as X\n",
        "#Y: output vector : traffic for hour six predicted based on the previous window \n",
        "\n",
        "#this is the window function for multiple input features and multiple output pairs\n",
        "#what's the difference between df_to_x_y2 and df_to_x_y --> the first one is just for one input vector (ie the data from one street) this \n",
        "#version accepts many columns of data (all the street values and the transformed time data)\n",
        "def df_to_x_y2(positional_data,non_positional, window_size): \n",
        "  #df_as_np = df.to_numpy()\n",
        "  print(positional_data.shape)\n",
        "  print(non_positional.shape)\n",
        "  X = []\n",
        "  Y = []\n",
        "  for i in range((len(positional_data))-window_size-1):\n",
        "    row = [r for r in positional_data[i:i+window_size]]\n",
        "    \n",
        "    #The line below makes the last value in the batch 0 (relative to what we are predicting, \n",
        "    #traffic flow rate, the positional information is still encoded )\n",
        "    row.append(positional_data[i+window_size+1] - non_positional[i+window_size+1]) \n",
        "    X.append(row)\n",
        "    \n",
        "    label = [non_positional[i+window_size][0:]] \n",
        "    Y.append(label)\n",
        "  return np.array(X), np.array(Y)"
      ]
    },
    {
      "cell_type": "code",
      "execution_count": 7,
      "metadata": {
        "colab": {
          "base_uri": "https://localhost:8080/",
          "height": 716
        },
        "id": "w9ddvo5P3o_p",
        "outputId": "d7467aff-3123-43d1-d32f-edcabf5d9bfd"
      },
      "outputs": [],
      "source": [
        "#this is for transforming datetime to recognizable inputs \n",
        "#sin and cos transformation for hour of the day \n",
        "df = new_table\n",
        "df = df[STREETS + ['datetime']] \n",
        " #this removes all of the streets with aveage flow <10 \n",
        "\n",
        "df.head()\n",
        "\n",
        "time = df['datetime'].to_numpy()"
      ]
    },
    {
      "cell_type": "code",
      "execution_count": 8,
      "metadata": {
        "id": "NwhYU7pOk63h"
      },
      "outputs": [],
      "source": [
        "def positional_encoding(df):\n",
        "  import datetime as dt\n",
        "  from sklearn.preprocessing import MinMaxScaler\n",
        "  df = pd.Series(df)\n",
        "  hour = df.dt.hour.to_numpy().astype('float32')\n",
        "  hour_sin = np.sin(hour*2* np.pi/23)\n",
        "  hour_cos = np.cos(hour*2* np.pi/23)\n",
        "  \n",
        "  day_of_week = df.dt.dayofweek.to_numpy()\n",
        "  day_of_week_scaler = MinMaxScaler(feature_range=(-1, 1))\n",
        "  day_of_week = day_of_week.reshape(-1, 1)\n",
        "  day_of_week = day_of_week_scaler.fit_transform(day_of_week)\n",
        "  day_of_week = day_of_week[:,0]\n",
        "  \n",
        "  pos_encoding_val = hour_sin + hour_cos + day_of_week\n",
        "  pos_encoding_val = pos_encoding_val.reshape(-1,1)\n",
        "  final_scaler = MinMaxScaler(feature_range=(0,1))\n",
        "  pos_encoding_val = final_scaler.fit_transform(pos_encoding_val)\n",
        "  return pos_encoding_val\n",
        "  "
      ]
    },
    {
      "cell_type": "code",
      "execution_count": 9,
      "metadata": {},
      "outputs": [
        {
          "data": {
            "text/plain": [
              "array([[0.56847003],\n",
              "       [0.56847003],\n",
              "       [0.61674907],\n",
              "       ...,\n",
              "       [0.64311181],\n",
              "       [0.70677715],\n",
              "       [0.70677715]])"
            ]
          },
          "execution_count": 9,
          "metadata": {},
          "output_type": "execute_result"
        }
      ],
      "source": [
        "#test positoinal_encoding function \n",
        "positional_encoding(time)"
      ]
    },
    {
      "cell_type": "code",
      "execution_count": 10,
      "metadata": {},
      "outputs": [],
      "source": [
        "class PositionalEmbedding(tf.keras.layers.Layer):\n",
        "  def __init__(self, date_time_info,time_weight):\n",
        "    super().__init__()\n",
        "    from sklearn.preprocessing import MinMaxScaler\n",
        "    self.time_weight = time_weight\n",
        "    self.scaler = MinMaxScaler(feature_range=(0,1))\n",
        "    self.pos_encoding = positional_encoding(date_time_info)\n",
        "\n",
        "  def call(self, x):\n",
        "    print(x.shape)\n",
        "    print(type(x))\n",
        "    print(x)\n",
        "    length = tf.shape(x)[1]\n",
        "    x = self.scaler.fit_transform(x)\n",
        "    # This factor sets the relative scale of the embedding and positonal_encoding.\n",
        "    print(self.pos_encoding.shape)\n",
        "    x_positioned = np.add(x*(1-self.time_weight), (self.time_weight * self.pos_encoding))\n",
        "    print(x.shape)\n",
        "    x_final,y_final= df_to_x_y2(x_positioned,x,window_size=12) \n",
        "    x_final = tf.constant(x_final)\n",
        "    y_final = tf.constant(y_final)\n",
        "    return x_final,y_final"
      ]
    },
    {
      "cell_type": "code",
      "execution_count": 11,
      "metadata": {},
      "outputs": [
        {
          "name": "stdout",
          "output_type": "stream",
          "text": [
            "(2832, 1683)\n",
            "<class 'tensorflow.python.framework.ops.EagerTensor'>\n",
            "tf.Tensor(\n",
            "[[ 2.  0.  0. ...  0.  0.  0.]\n",
            " [ 1.  0.  0. ...  1.  1.  0.]\n",
            " [ 3.  1.  0. ...  1.  0.  0.]\n",
            " ...\n",
            " [31. 14.  4. ... 19.  8. 13.]\n",
            " [29. 16.  1. ... 16.  6. 27.]\n",
            " [21. 27.  6. ... 14.  4. 15.]], shape=(2832, 1683), dtype=float32)\n",
            "(2832, 1)\n",
            "(2832, 1683)\n",
            "(2832, 1683)\n",
            "(2832, 1683)\n",
            "shape1 tf.Tensor(\n",
            "[[0.23351046 0.22738801 0.22738801 ... 0.22738801 0.22738801 0.22738801]\n",
            " [0.23044924 0.22738801 0.22738801 ... 0.22999671 0.23538801 0.22738801]\n",
            " [0.2558833  0.25038061 0.24669963 ... 0.24930832 0.24669963 0.24669963]\n",
            " ...\n",
            " [0.2455972  0.24621695 0.24711613 ... 0.24514467 0.25053597 0.24474186]\n",
            " [0.24253597 0.24253597 0.24711613 ... 0.24253597 0.25053597 0.24694774]\n",
            " [0.21949069 0.21416954 0.2215315  ... 0.21805324 0.2215315  0.2215315 ]], shape=(13, 1683), dtype=float64)\n",
            "(2832, 1683)\n",
            "<class 'tensorflow.python.framework.ops.EagerTensor'>\n",
            "tf.Tensor(\n",
            "[[ 2.  0.  0. ...  0.  0.  0.]\n",
            " [ 1.  0.  0. ...  1.  1.  0.]\n",
            " [ 3.  1.  0. ...  1.  0.  0.]\n",
            " ...\n",
            " [31. 14.  4. ... 19.  8. 13.]\n",
            " [29. 16.  1. ... 16.  6. 27.]\n",
            " [21. 27.  6. ... 14.  4. 15.]], shape=(2832, 1683), dtype=float32)\n",
            "(2832, 1)\n",
            "(2832, 1683)\n",
            "(2832, 1683)\n",
            "(2832, 1683)\n",
            "shape2 tf.Tensor(\n",
            "[[0.01020408 0.         0.         ... 0.         0.         0.        ]\n",
            " [0.00510204 0.         0.         ... 0.00434783 0.01333333 0.        ]\n",
            " [0.01530612 0.00613497 0.         ... 0.00434783 0.         0.        ]\n",
            " ...\n",
            " [0.00510204 0.00613497 0.00763359 ... 0.00434783 0.01333333 0.00367647]\n",
            " [0.         0.         0.00763359 ... 0.         0.01333333 0.00735294]\n",
            " [0.         0.         0.         ... 0.         0.         0.        ]], shape=(13, 1683), dtype=float64)\n"
          ]
        }
      ],
      "source": [
        "#testing the positional embedding class \n",
        "positional_em = PositionalEmbedding(time,0.4)\n",
        "positional_em2 = PositionalEmbedding(time,0)\n",
        "\n",
        "print('shape1',positional_em(df[STREETS].to_numpy())[0][0])\n",
        "print('shape2',positional_em2(df[STREETS].to_numpy())[0][0])\n",
        "\n",
        "x1_df = df[STREETS + ['datetime']].to_numpy()"
      ]
    },
    {
      "cell_type": "code",
      "execution_count": 12,
      "metadata": {
        "id": "OVOaXVRCobl-"
      },
      "outputs": [],
      "source": [
        "class BaseAttention(tf.keras.layers.Layer):\n",
        "  def __init__(self, **kwargs):\n",
        "    super().__init__()\n",
        "    self.mha = tf.keras.layers.MultiHeadAttention(**kwargs)\n",
        "    self.layernorm = tf.keras.layers.LayerNormalization()\n",
        "    self.add = tf.keras.layers.Add()"
      ]
    },
    {
      "cell_type": "code",
      "execution_count": 13,
      "metadata": {
        "id": "paapuDkwCKvd"
      },
      "outputs": [],
      "source": [
        "class CrossAttention(BaseAttention):\n",
        "  def call(self, x, context):\n",
        "    attn_output, attn_scores = self.mha(\n",
        "        query=x,\n",
        "        key=context,\n",
        "        value=context,\n",
        "        return_attention_scores=True)\n",
        "   \n",
        "    # Cache the attention scores for plotting later.\n",
        "    self.last_attn_scores = attn_scores\n",
        "\n",
        "    x = self.add([x, attn_output])\n",
        "    x = self.layernorm(x)\n",
        "\n",
        "    return x"
      ]
    },
    {
      "cell_type": "code",
      "execution_count": 14,
      "metadata": {
        "id": "JHxIK9yabRL1"
      },
      "outputs": [],
      "source": [
        "#in globalself attention, we are comparing every token to iteself within the same sequence of tokens, here the query and value are both = x\n",
        "class GlobalSelfAttention(BaseAttention):\n",
        "  def call(self, x):\n",
        "    attn_output = self.mha(\n",
        "        query=x,\n",
        "        value=x,\n",
        "        key=x)\n",
        "    x = self.add([x, attn_output])\n",
        "    x = self.layernorm(x)\n",
        "    return x"
      ]
    },
    {
      "cell_type": "code",
      "execution_count": 15,
      "metadata": {
        "id": "I_eeO4jojMHf"
      },
      "outputs": [],
      "source": [
        "class CausalSelfAttention(BaseAttention):\n",
        "  def call(self, x):\n",
        "    causal_mask = tf.linalg.band_part(tf.ones((x.shape[0],x.shape[1],x.shape[1])),0,-1)\n",
        "    attn_output = self.mha(\n",
        "        query=x,\n",
        "        value=x,\n",
        "        key=x,\n",
        "        attention_mask = causal_mask)\n",
        "    x = self.add([x, attn_output])\n",
        "    x = self.layernorm(x)\n",
        "    return x"
      ]
    },
    {
      "cell_type": "code",
      "execution_count": 16,
      "metadata": {
        "id": "BRlFJ1xynH5h"
      },
      "outputs": [],
      "source": [
        "class FeedForward(tf.keras.layers.Layer):\n",
        "  def __init__(self, d_model, dff, dropout_rate=0.1):\n",
        "    super().__init__()\n",
        "    self.seq = tf.keras.Sequential([\n",
        "      tf.keras.layers.Dense(dff, activation='relu'),\n",
        "      tf.keras.layers.Dense(d_model),\n",
        "      tf.keras.layers.Dropout(dropout_rate)\n",
        "    ])\n",
        "    self.add = tf.keras.layers.Add()\n",
        "    self.layer_norm = tf.keras.layers.LayerNormalization()\n",
        "\n",
        "  def call(self, x):\n",
        "    x = self.add([x, self.seq(x)])\n",
        "    x = self.layer_norm(x) \n",
        "    return x"
      ]
    },
    {
      "cell_type": "code",
      "execution_count": 17,
      "metadata": {},
      "outputs": [],
      "source": [
        "class EncoderLayer(tf.keras.layers.Layer):\n",
        "  def __init__(self,*, d_model, num_heads, dff, dropout_rate=0.1):\n",
        "    super().__init__()\n",
        "\n",
        "    self.self_attention = GlobalSelfAttention(\n",
        "        num_heads=num_heads,\n",
        "        key_dim=d_model,\n",
        "        dropout=dropout_rate)\n",
        "\n",
        "    self.ffn = FeedForward(d_model, dff)\n",
        "\n",
        "  def call(self, x):\n",
        "    print('eh',x.shape)\n",
        "    x = self.self_attention(x)\n",
        "    x = self.ffn(x)\n",
        "    return x"
      ]
    },
    {
      "cell_type": "code",
      "execution_count": 18,
      "metadata": {},
      "outputs": [
        {
          "name": "stdout",
          "output_type": "stream",
          "text": [
            "\n",
            "(336, 1683)\n",
            "<class 'tensorflow.python.framework.ops.EagerTensor'>\n",
            "tf.Tensor(\n",
            "[[ 2.  0.  0. ...  0.  0.  0.]\n",
            " [ 1.  0.  0. ...  1.  1.  0.]\n",
            " [ 3.  1.  0. ...  1.  0.  0.]\n",
            " ...\n",
            " [46. 11.  8. ... 18.  7. 19.]\n",
            " [38.  6.  2. ... 15.  2. 11.]\n",
            " [21. 17.  5. ... 17.  7. 10.]], shape=(336, 1683), dtype=float32)\n",
            "(336, 1)\n",
            "(336, 1683)\n",
            "(336, 1683)\n",
            "(336, 1683)\n",
            "(323, 13, 1683)\n"
          ]
        }
      ],
      "source": [
        "x1_df_test = x1_df[0:336]\n",
        "x1_df_test_time = x1_df_test[:,-1]\n",
        "x1_test_data = df[STREETS][0:336].to_numpy()\n",
        "print()\n",
        "positional_em = PositionalEmbedding(x1_df_test_time,0.4)\n",
        "x1_test, y1_test = positional_em(x1_test_data)\n",
        "print(x1_test.shape)"
      ]
    },
    {
      "cell_type": "code",
      "execution_count": 19,
      "metadata": {},
      "outputs": [
        {
          "name": "stdout",
          "output_type": "stream",
          "text": [
            "(336, 1683)\n",
            "<class 'tensorflow.python.framework.ops.EagerTensor'>\n",
            "tf.Tensor(\n",
            "[[ 2.  0.  0. ...  0.  0.  0.]\n",
            " [ 1.  0.  0. ...  1.  1.  0.]\n",
            " [ 3.  1.  0. ...  1.  0.  0.]\n",
            " ...\n",
            " [46. 11.  8. ... 18.  7. 19.]\n",
            " [38.  6.  2. ... 15.  2. 11.]\n",
            " [21. 17.  5. ... 17.  7. 10.]], shape=(336, 1683), dtype=float32)\n",
            "(336, 1)\n",
            "(336, 1683)\n",
            "(336, 1683)\n",
            "(336, 1683)\n",
            "(323, 13, 1683)\n",
            "eh (323, 13, 1683)\n",
            "(323, 13, 1683)\n"
          ]
        }
      ],
      "source": [
        "sample_encoder_layer = EncoderLayer(d_model=keys_dim, num_heads=8, dff=keys_dim)\n",
        "encoder_test = positional_em(x1_test_data)[0]\n",
        "print(encoder_test.shape)\n",
        "print(sample_encoder_layer(encoder_test).shape)"
      ]
    },
    {
      "cell_type": "code",
      "execution_count": 20,
      "metadata": {},
      "outputs": [],
      "source": [
        "class Encoder(tf.keras.layers.Layer):\n",
        "  def __init__(self, *, num_layers, d_model, num_heads,\n",
        "               dff, dropout_rate=0.1):\n",
        "    super().__init__()\n",
        "\n",
        "    self.d_model = d_model\n",
        "    self.num_layers = num_layers\n",
        "\n",
        "    self.enc_layers = [\n",
        "        EncoderLayer(\n",
        "                    d_model=d_model,\n",
        "                     num_heads=num_heads,\n",
        "                     dff=dff,\n",
        "                     )\n",
        "        for _ in range(num_layers)]\n",
        "    self.dropout = tf.keras.layers.Dropout(dropout_rate)\n",
        "\n",
        "  def call(self, x):\n",
        "    # `x` is token-IDs shape: (batch, seq_len)\n",
        "    print('try embedd',x.shape)\n",
        "\n",
        "    # Add dropout.\n",
        "    x = self.dropout(x)\n",
        "\n",
        "    for i in range(self.num_layers):\n",
        "      print()\n",
        "      x = self.enc_layers[i](x)\n",
        "\n",
        "    return x  # Shape `(batch_size, seq_len, d_model)`."
      ]
    },
    {
      "cell_type": "code",
      "execution_count": 21,
      "metadata": {},
      "outputs": [
        {
          "name": "stdout",
          "output_type": "stream",
          "text": [
            "try embedd (323, 13, 1683)\n",
            "\n",
            "eh (323, 13, 1683)\n",
            "\n",
            "eh (323, 13, 1683)\n",
            "(323, 13, 1683)\n",
            "(323, 13, 1683)\n"
          ]
        }
      ],
      "source": [
        "sample_encoder = Encoder(num_layers=2,\n",
        "                         d_model=keys_dim,\n",
        "                         num_heads=2,\n",
        "                         dff=keys_dim\n",
        "                         )\n",
        "\n",
        "sample_encoder_output = sample_encoder(encoder_test, training=False)\n",
        "\n",
        "# Print the shape.\n",
        "print(encoder_test.shape)\n",
        "print(sample_encoder_output.shape)  # Shape `(batch_size, input_seq_len, d_model)`."
      ]
    },
    {
      "cell_type": "code",
      "execution_count": 22,
      "metadata": {
        "id": "uY5N-ebf6pBe"
      },
      "outputs": [],
      "source": [
        "#encoder only transformer \n",
        "class Transformer(tf.keras.Model):\n",
        "  def __init__(self, *, num_layers, d_model, num_heads, dff, dropout_rate=0.1):\n",
        "    super().__init__()\n",
        "    self.encoder = Encoder(num_layers=num_layers, d_model=d_model,\n",
        "                           num_heads=num_heads, dff=dff,\n",
        "                           dropout_rate=dropout_rate)\n",
        "    self.final_layer = tf.keras.layers.Dense(keys_dim)\n",
        "\n",
        "  def call(self, inputs):\n",
        "    # To use a Keras model with `.fit` you must pass all your inputs in the\n",
        "    # first argument.\n",
        "    print('input_shape',inputs.shape)\n",
        "    x = inputs\n",
        "    x = self.encoder(x)  # (batch_size, target_len, d_model)\n",
        "\n",
        "    # Final linear layer output.\n",
        "    logits = self.final_layer(x)  # (batch_size, target_len, target_vocab_size)\n",
        "\n",
        "    try:\n",
        "      # Drop the keras mask, so it doesn't scale the losses/metrics.\n",
        "      # b/250038731\n",
        "      del logits._keras_mask\n",
        "    except AttributeError:\n",
        "      pass\n",
        "\n",
        "    # Return the final output and the attention weights.\n",
        "    return logits[:,-1:,:]"
      ]
    },
    {
      "cell_type": "code",
      "execution_count": 55,
      "metadata": {},
      "outputs": [
        {
          "name": "stdout",
          "output_type": "stream",
          "text": [
            "tf.Tensor(\n",
            "[[[0.375      0.26896552 0.09174312 ... 0.07894737 0.05333333 0.14285714]]\n",
            "\n",
            " [[0.20108696 0.19310345 0.0733945  ... 0.01052632 0.01333333 0.11688312]]\n",
            "\n",
            " [[0.18478261 0.28275862 0.04587156 ... 0.         0.         0.13852814]]\n",
            "\n",
            " ...\n",
            "\n",
            " [[0.18478261 0.10344828 0.01834862 ... 0.1        0.02666667 0.03896104]]\n",
            "\n",
            " [[0.16304348 0.09655172 0.03669725 ... 0.1        0.10666667 0.05627706]]\n",
            "\n",
            " [[0.15217391 0.11034483 0.00917431 ... 0.08421053 0.08       0.11688312]]], shape=(270, 1, 1683), dtype=float64)\n"
          ]
        }
      ],
      "source": [
        "num_layers = 2\n",
        "d_model = keys_dim\n",
        "dff = keys_dim\n",
        "num_heads = 3\n",
        "dropout_rate = 0.1\n",
        "\n",
        "print(y_test)\n"
      ]
    },
    {
      "cell_type": "code",
      "execution_count": 24,
      "metadata": {},
      "outputs": [],
      "source": [
        "transformer = Transformer(\n",
        "    num_layers=num_layers,\n",
        "    d_model=d_model,\n",
        "    num_heads=num_heads,\n",
        "    dff=dff,\n",
        "    dropout_rate=dropout_rate)\n",
        "\n",
        "\n"
      ]
    },
    {
      "cell_type": "code",
      "execution_count": 25,
      "metadata": {},
      "outputs": [
        {
          "name": "stdout",
          "output_type": "stream",
          "text": [
            "(2832, 1684)\n",
            "(283, 1684)\n"
          ]
        }
      ],
      "source": [
        "print(x1_df.shape)\n",
        "length = 2832\n",
        "#80, 10, 10 split from train val test \n",
        "val_step = int(0.1 * length) * 2\n",
        "test_step = int(0.1 * length)\n",
        "\n",
        "val_s = length - val_step\n",
        "test_s = length - test_step\n",
        "\n",
        "x_train = x1_df[:val_s]\n",
        "x_val = x1_df[val_s:test_s]\n",
        "x_test= x1_df[test_s:]\n",
        "\n",
        "print(x_test.shape)"
      ]
    },
    {
      "cell_type": "code",
      "execution_count": 26,
      "metadata": {},
      "outputs": [
        {
          "name": "stdout",
          "output_type": "stream",
          "text": [
            "(283, 1684)\n",
            "(283, 1684)\n",
            "(283,)\n",
            "(2266, 1683)\n",
            "<class 'tensorflow.python.framework.ops.EagerTensor'>\n",
            "tf.Tensor(\n",
            "[[2. 0. 0. ... 0. 0. 0.]\n",
            " [1. 0. 0. ... 1. 1. 0.]\n",
            " [3. 1. 0. ... 1. 0. 0.]\n",
            " ...\n",
            " [5. 1. 0. ... 2. 0. 0.]\n",
            " [1. 1. 0. ... 0. 1. 1.]\n",
            " [0. 0. 0. ... 0. 0. 1.]], shape=(2266, 1683), dtype=float32)\n",
            "(2266, 1)\n",
            "(2266, 1683)\n",
            "(2266, 1683)\n",
            "(2266, 1683)\n",
            "(283, 1683)\n",
            "<class 'tensorflow.python.framework.ops.EagerTensor'>\n",
            "tf.Tensor(\n",
            "[[ 2.  1.  0. ...  0.  0.  2.]\n",
            " [ 2.  1.  0. ...  3.  1.  8.]\n",
            " [ 1.  2.  1. ...  5.  0.  8.]\n",
            " ...\n",
            " [19. 11.  1. ... 19.  1. 12.]\n",
            " [26. 16.  2. ...  4.  1. 14.]\n",
            " [29. 11.  4. ... 11.  0. 11.]], shape=(283, 1683), dtype=float32)\n",
            "(283, 1)\n",
            "(283, 1683)\n",
            "(283, 1683)\n",
            "(283, 1683)\n",
            "(283, 1683)\n",
            "<class 'tensorflow.python.framework.ops.EagerTensor'>\n",
            "tf.Tensor(\n",
            "[[31. 23.  1. ... 13.  8. 17.]\n",
            " [48. 20.  5. ... 17.  3. 20.]\n",
            " [47. 27.  6. ...  7.  2. 20.]\n",
            " ...\n",
            " [31. 14.  4. ... 19.  8. 13.]\n",
            " [29. 16.  1. ... 16.  6. 27.]\n",
            " [21. 27.  6. ... 14.  4. 15.]], shape=(283, 1683), dtype=float32)\n",
            "(283, 1)\n",
            "(283, 1683)\n",
            "(283, 1683)\n",
            "(283, 1683)\n"
          ]
        }
      ],
      "source": [
        "#positionally encode and divide all data sets into batches \n",
        "train_time = x_train[:,-1]\n",
        "train_feat = x_train[:,:-1]\n",
        "val_time = x_val[:,-1]\n",
        "val_feat = x_val[:,:-1]\n",
        "test_time = x_test[:,-1]\n",
        "test_feat = x_test[:,:-1]\n",
        "print(x_test.shape)\n",
        "print(x_val.shape)\n",
        "print(test_time.shape)\n",
        "\n",
        "train_pos_enc = PositionalEmbedding(train_time,0.2)\n",
        "val_pos_enc = PositionalEmbedding(val_time,0.2)\n",
        "test_pos_enc = PositionalEmbedding(test_time,0.2)\n",
        "\n",
        "\n",
        "x_train,y_train = train_pos_enc(np.asarray(train_feat).astype('float32'))\n",
        "x_val,y_val = val_pos_enc(np.asarray(val_feat).astype('float32'))\n",
        "x_test,y_test = test_pos_enc(np.asarray(test_feat).astype('float32'))\n"
      ]
    },
    {
      "cell_type": "code",
      "execution_count": 53,
      "metadata": {},
      "outputs": [
        {
          "name": "stdout",
          "output_type": "stream",
          "text": [
            "<BatchDataset element_spec=(TensorSpec(shape=(None, 13, 1683), dtype=tf.float64, name=None), TensorSpec(shape=(None, 1, 1683), dtype=tf.float64, name=None))>\n"
          ]
        }
      ],
      "source": [
        "train_dataloader = tf.data.Dataset.from_tensor_slices((x_train, y_train)).shuffle(10000).batch(64)\n",
        "val_dataloader = tf.data.Dataset.from_tensor_slices((x_val, y_val)).shuffle(10000).batch(64)\n",
        "test_dataloader = tf.data.Dataset.from_tensor_slices((x_test, y_test)).batch(64)\n",
        "\n",
        "train_batch_size = 2253\n",
        "val_batch_size = 270\n",
        "test_batch_size = 270\n",
        "\n",
        "print(train_dataloader)\n",
        "\n",
        "optimizer = tf.keras.optimizers.Adam(learning_rate=0.00001)"
      ]
    },
    {
      "cell_type": "code",
      "execution_count": 28,
      "metadata": {},
      "outputs": [],
      "source": [
        "def evaluate(dataloader, model, log=False):\n",
        "    \n",
        "    for traffic_batch, labels_batch in dataloader:\n",
        "        traffic = traffic_batch\n",
        "        print(traffic.shape)\n",
        "        predict_flow = model(traffic)\n",
        "        mse = tf.keras.losses.MeanSquaredError()\n",
        "        mse = mse(labels_batch,predict_flow ).numpy()\n",
        "    \n",
        "    return predict_flow"
      ]
    },
    {
      "cell_type": "code",
      "execution_count": 29,
      "metadata": {},
      "outputs": [
        {
          "name": "stdout",
          "output_type": "stream",
          "text": [
            "(64, 13, 1683)\n",
            "input_shape (64, 13, 1683)\n",
            "try embedd (64, 13, 1683)\n",
            "\n",
            "eh (64, 13, 1683)\n",
            "\n",
            "eh (64, 13, 1683)\n",
            "(64, 13, 1683)\n",
            "input_shape (64, 13, 1683)\n",
            "try embedd (64, 13, 1683)\n",
            "\n",
            "eh (64, 13, 1683)\n",
            "\n",
            "eh (64, 13, 1683)\n",
            "(64, 13, 1683)\n",
            "input_shape (64, 13, 1683)\n",
            "try embedd (64, 13, 1683)\n",
            "\n",
            "eh (64, 13, 1683)\n",
            "\n",
            "eh (64, 13, 1683)\n",
            "(64, 13, 1683)\n",
            "input_shape (64, 13, 1683)\n",
            "try embedd (64, 13, 1683)\n",
            "\n",
            "eh (64, 13, 1683)\n",
            "\n",
            "eh (64, 13, 1683)\n",
            "(14, 13, 1683)\n",
            "input_shape (14, 13, 1683)\n",
            "try embedd (14, 13, 1683)\n",
            "\n",
            "eh (14, 13, 1683)\n",
            "\n",
            "eh (14, 13, 1683)\n"
          ]
        },
        {
          "data": {
            "text/plain": [
              "<tf.Tensor: shape=(14, 1, 1683), dtype=float32, numpy=\n",
              "array([[[ 2.0493844 ,  0.59794533, -0.86663187, ..., -1.4298    ,\n",
              "         -1.0087397 , -0.12998083]],\n",
              "\n",
              "       [[ 0.7389724 ,  0.31342876, -0.3065896 , ..., -1.5455652 ,\n",
              "         -0.81058973, -0.20676051]],\n",
              "\n",
              "       [[-0.6463302 ,  0.66550887, -0.5120262 , ..., -1.4101154 ,\n",
              "         -1.0244148 , -0.24395023]],\n",
              "\n",
              "       ...,\n",
              "\n",
              "       [[ 1.452896  ,  0.50661796, -1.1497942 , ...,  0.00679739,\n",
              "          0.39420652,  0.7625575 ]],\n",
              "\n",
              "       [[ 1.0358374 ,  0.5997282 , -1.3022038 , ..., -0.73297274,\n",
              "         -0.48402497,  0.5247071 ]],\n",
              "\n",
              "       [[ 0.535677  ,  0.61258936, -2.0956779 , ..., -0.1491164 ,\n",
              "         -0.01589783,  0.16176593]]], dtype=float32)>"
            ]
          },
          "execution_count": 29,
          "metadata": {},
          "output_type": "execute_result"
        }
      ],
      "source": [
        "\n",
        "evaluate(test_dataloader,transformer)"
      ]
    },
    {
      "cell_type": "code",
      "execution_count": 30,
      "metadata": {},
      "outputs": [],
      "source": [
        "def loss(y_true, y_pred):\n",
        "    mse = tf.keras.losses.MeanSquaredError()\n",
        "    y = mse(y_true, y_pred)\n",
        "    return y_train"
      ]
    },
    {
      "cell_type": "code",
      "execution_count": 50,
      "metadata": {},
      "outputs": [],
      "source": [
        "transformer.compile(optimizer=optimizer, \n",
        "                  loss = tf.keras.losses.MeanSquaredError(), \n",
        "                  metrics= [tf.keras.losses.MeanSquaredError()]) "
      ]
    },
    {
      "cell_type": "code",
      "execution_count": 54,
      "metadata": {},
      "outputs": [
        {
          "name": "stdout",
          "output_type": "stream",
          "text": [
            "Epoch 1/5\n",
            "36/36 [==============================] - ETA: 0s - loss: 0.0583 - mean_squared_error: 0.0580input_shape (None, 13, 1683)\n",
            "try embedd (None, 13, 1683)\n",
            "\n",
            "eh (None, 13, 1683)\n",
            "\n",
            "eh (None, 13, 1683)\n",
            "36/36 [==============================] - 124s 3s/step - loss: 0.0583 - mean_squared_error: 0.0580 - val_loss: 0.0876 - val_mean_squared_error: 0.0835\n",
            "Epoch 2/5\n",
            "36/36 [==============================] - 129s 4s/step - loss: 0.0568 - mean_squared_error: 0.0567 - val_loss: 0.0896 - val_mean_squared_error: 0.0935\n",
            "Epoch 3/5\n",
            "36/36 [==============================] - 118s 3s/step - loss: 0.0563 - mean_squared_error: 0.0566 - val_loss: 0.0906 - val_mean_squared_error: 0.0913\n",
            "Epoch 4/5\n",
            "36/36 [==============================] - 132s 4s/step - loss: 0.0560 - mean_squared_error: 0.0558 - val_loss: 0.0918 - val_mean_squared_error: 0.0909\n",
            "Epoch 5/5\n",
            "36/36 [==============================] - 119s 3s/step - loss: 0.0560 - mean_squared_error: 0.0563 - val_loss: 0.0921 - val_mean_squared_error: 0.0899\n"
          ]
        },
        {
          "data": {
            "text/plain": [
              "<keras.callbacks.History at 0x211bcfa1448>"
            ]
          },
          "execution_count": 54,
          "metadata": {},
          "output_type": "execute_result"
        }
      ],
      "source": [
        "transformer.fit(train_dataloader,epochs = 5,validation_data = val_dataloader)"
      ]
    },
    {
      "cell_type": "code",
      "execution_count": 64,
      "metadata": {},
      "outputs": [
        {
          "name": "stdout",
          "output_type": "stream",
          "text": [
            "9/9 [==============================] - 5s 497ms/step\n"
          ]
        },
        {
          "data": {
            "text/plain": [
              "(270, 1, 1683)"
            ]
          },
          "execution_count": 64,
          "metadata": {},
          "output_type": "execute_result"
        }
      ],
      "source": []
    },
    {
      "cell_type": "code",
      "execution_count": 34,
      "metadata": {},
      "outputs": [
        {
          "data": {
            "text/plain": [
              "<tf.Tensor: shape=(270, 1, 1683), dtype=float64, numpy=\n",
              "array([[[0.375     , 0.26896552, 0.09174312, ..., 0.07894737,\n",
              "         0.05333333, 0.14285714]],\n",
              "\n",
              "       [[0.20108696, 0.19310345, 0.0733945 , ..., 0.01052632,\n",
              "         0.01333333, 0.11688312]],\n",
              "\n",
              "       [[0.18478261, 0.28275862, 0.04587156, ..., 0.        ,\n",
              "         0.        , 0.13852814]],\n",
              "\n",
              "       ...,\n",
              "\n",
              "       [[0.18478261, 0.10344828, 0.01834862, ..., 0.1       ,\n",
              "         0.02666667, 0.03896104]],\n",
              "\n",
              "       [[0.16304348, 0.09655172, 0.03669725, ..., 0.1       ,\n",
              "         0.10666667, 0.05627706]],\n",
              "\n",
              "       [[0.15217391, 0.11034483, 0.00917431, ..., 0.08421053,\n",
              "         0.08      , 0.11688312]]])>"
            ]
          },
          "execution_count": 34,
          "metadata": {},
          "output_type": "execute_result"
        }
      ],
      "source": [
        "y_test\n"
      ]
    },
    {
      "cell_type": "code",
      "execution_count": 38,
      "metadata": {},
      "outputs": [
        {
          "data": {
            "text/plain": [
              "<tf.Tensor: shape=(1, 1683), dtype=float32, numpy=\n",
              "array([[0.40450144, 0.35879976, 0.31630725, ..., 0.3836877 , 0.41122654,\n",
              "        0.3609282 ]], dtype=float32)>"
            ]
          },
          "execution_count": 38,
          "metadata": {},
          "output_type": "execute_result"
        }
      ],
      "source": [
        "response[0]"
      ]
    },
    {
      "cell_type": "code",
      "execution_count": 62,
      "metadata": {},
      "outputs": [
        {
          "name": "stdout",
          "output_type": "stream",
          "text": [
            "tf.Tensor([[0.         0.         0.00763359 ... 0.00869565 0.         0.00367647]], shape=(1, 1683), dtype=float64)\n",
            "tf.Tensor([[0.00510204 0.01840491 0.         ... 0.00869565 0.         0.        ]], shape=(1, 1683), dtype=float64)\n"
          ]
        }
      ],
      "source": [
        "print(y_train[0])\n",
        "print(y_train[1])\n"
      ]
    },
    {
      "cell_type": "code",
      "execution_count": 36,
      "metadata": {},
      "outputs": [
        {
          "ename": "NameError",
          "evalue": "name 'y3_test' is not defined",
          "output_type": "error",
          "traceback": [
            "\u001b[1;31m---------------------------------------------------------------------------\u001b[0m",
            "\u001b[1;31mNameError\u001b[0m                                 Traceback (most recent call last)",
            "\u001b[1;32m~\\AppData\\Local\\Temp\\ipykernel_10084\\2470388395.py\u001b[0m in \u001b[0;36m<module>\u001b[1;34m\u001b[0m\n\u001b[1;32m----> 1\u001b[1;33m \u001b[0my3_test\u001b[0m\u001b[1;33m.\u001b[0m\u001b[0mshape\u001b[0m\u001b[1;33m\u001b[0m\u001b[1;33m\u001b[0m\u001b[0m\n\u001b[0m",
            "\u001b[1;31mNameError\u001b[0m: name 'y3_test' is not defined"
          ]
        }
      ],
      "source": [
        "y3_test.shape"
      ]
    },
    {
      "cell_type": "code",
      "execution_count": null,
      "metadata": {},
      "outputs": [],
      "source": []
    }
  ],
  "metadata": {
    "colab": {
      "provenance": []
    },
    "kernelspec": {
      "display_name": "Python 3.7.6 64-bit",
      "language": "python",
      "name": "python3"
    },
    "language_info": {
      "codemirror_mode": {
        "name": "ipython",
        "version": 3
      },
      "file_extension": ".py",
      "mimetype": "text/x-python",
      "name": "python",
      "nbconvert_exporter": "python",
      "pygments_lexer": "ipython3",
      "version": "3.7.6"
    },
    "vscode": {
      "interpreter": {
        "hash": "39282081ff6844baad5334981d710ee8987f21358ca5c4d02825da922a75398f"
      }
    }
  },
  "nbformat": 4,
  "nbformat_minor": 0
}
